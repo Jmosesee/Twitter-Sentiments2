{
 "cells": [
  {
   "cell_type": "code",
   "execution_count": 1,
   "metadata": {},
   "outputs": [],
   "source": [
    "import tweepy\n",
    "import pandas as pd\n",
    "from pandas.io.json import json_normalize #package for flattening json in pandas df\n",
    "from config import consumer_key, consumer_secret, access_token, access_token_secret\n",
    "import matplotlib.pyplot as plt\n",
    "from datetime import datetime\n",
    "import time\n",
    "from vaderSentiment.vaderSentiment import SentimentIntensityAnalyzer \n",
    "analyzer = SentimentIntensityAnalyzer() # Initialize the class "
   ]
  },
  {
   "cell_type": "code",
   "execution_count": 2,
   "metadata": {},
   "outputs": [],
   "source": [
    "# Twitter credentials\n",
    "auth = tweepy.OAuthHandler(consumer_key, consumer_secret)\n",
    "auth.set_access_token(access_token, access_token_secret)\n",
    "api = tweepy.API(auth)"
   ]
  },
  {
   "cell_type": "code",
   "execution_count": 3,
   "metadata": {},
   "outputs": [],
   "source": [
    "news_organization_list = [('BBC', '@BBC'), ('CBS', '@CBS'), ('CNN', '@CNN'), ('Fox', '@FoxNews'), ('New York Times', '@nytimes')]"
   ]
  },
  {
   "cell_type": "code",
   "execution_count": 4,
   "metadata": {},
   "outputs": [],
   "source": [
    "news_organizations_df = pd.DataFrame(news_organization_list, columns = ['name', 'handle'])"
   ]
  },
  {
   "cell_type": "code",
   "execution_count": 5,
   "metadata": {},
   "outputs": [
    {
     "data": {
      "text/html": [
       "<div>\n",
       "<style scoped>\n",
       "    .dataframe tbody tr th:only-of-type {\n",
       "        vertical-align: middle;\n",
       "    }\n",
       "\n",
       "    .dataframe tbody tr th {\n",
       "        vertical-align: top;\n",
       "    }\n",
       "\n",
       "    .dataframe thead th {\n",
       "        text-align: right;\n",
       "    }\n",
       "</style>\n",
       "<table border=\"1\" class=\"dataframe\">\n",
       "  <thead>\n",
       "    <tr style=\"text-align: right;\">\n",
       "      <th></th>\n",
       "      <th>name</th>\n",
       "      <th>handle</th>\n",
       "    </tr>\n",
       "  </thead>\n",
       "  <tbody>\n",
       "    <tr>\n",
       "      <th>0</th>\n",
       "      <td>BBC</td>\n",
       "      <td>@BBC</td>\n",
       "    </tr>\n",
       "    <tr>\n",
       "      <th>1</th>\n",
       "      <td>CBS</td>\n",
       "      <td>@CBS</td>\n",
       "    </tr>\n",
       "    <tr>\n",
       "      <th>2</th>\n",
       "      <td>CNN</td>\n",
       "      <td>@CNN</td>\n",
       "    </tr>\n",
       "    <tr>\n",
       "      <th>3</th>\n",
       "      <td>Fox</td>\n",
       "      <td>@FoxNews</td>\n",
       "    </tr>\n",
       "    <tr>\n",
       "      <th>4</th>\n",
       "      <td>New York Times</td>\n",
       "      <td>@nytimes</td>\n",
       "    </tr>\n",
       "  </tbody>\n",
       "</table>\n",
       "</div>"
      ],
      "text/plain": [
       "             name    handle\n",
       "0             BBC      @BBC\n",
       "1             CBS      @CBS\n",
       "2             CNN      @CNN\n",
       "3             Fox  @FoxNews\n",
       "4  New York Times  @nytimes"
      ]
     },
     "execution_count": 5,
     "metadata": {},
     "output_type": "execute_result"
    }
   ],
   "source": [
    "news_organizations_df"
   ]
  },
  {
   "cell_type": "code",
   "execution_count": 6,
   "metadata": {},
   "outputs": [],
   "source": [
    "nbr_tweets = 100"
   ]
  },
  {
   "cell_type": "code",
   "execution_count": 7,
   "metadata": {},
   "outputs": [],
   "source": [
    "def get_df_for_user_tweets(username):\n",
    "    try:\n",
    "        target_tweets = []\n",
    "        for status in tweepy.Cursor(api.user_timeline, id=username).items(nbr_tweets):\n",
    "            target_tweets.append(status)\n",
    "        temp_df = pd.DataFrame([ (x.user._json['screen_name'], x.text, x.created_at, analyzer.polarity_scores(x.text))\n",
    "                                for x in target_tweets])\n",
    "        temp_df.columns = ['user', 'tweet_text', 'created', 'sentiment']\n",
    "        return temp_df\n",
    "    except Exception as e:\n",
    "        print(str(e), \"Please debug this!\")"
   ]
  },
  {
   "cell_type": "code",
   "execution_count": 8,
   "metadata": {},
   "outputs": [],
   "source": [
    "# Create a 'tweets' DataFrame for each row of the 'news organizations' DataFrame\n",
    "news_organizations_df['tweets'] = news_organizations_df.handle.map(get_df_for_user_tweets)\n",
    "# Would it be ok if the funtion get_df_for_user_tweets required a second argument, which was defined here?"
   ]
  },
  {
   "cell_type": "code",
   "execution_count": 9,
   "metadata": {},
   "outputs": [],
   "source": [
    "def df_to_list(df):\n",
    "    return list(df.T.to_dict().values())\n",
    "\n",
    "def normalize_df(df):\n",
    "    return json_normalize(df_to_list(df))"
   ]
  },
  {
   "cell_type": "code",
   "execution_count": 10,
   "metadata": {},
   "outputs": [],
   "source": [
    "# Flatten out the 'sentiment' dictionary column of the 'tweets' DataFrames\n",
    "news_organizations_df['tweets'] = news_organizations_df['tweets'].map(normalize_df)"
   ]
  },
  {
   "cell_type": "code",
   "execution_count": 11,
   "metadata": {},
   "outputs": [
    {
     "data": {
      "text/html": [
       "<div>\n",
       "<style scoped>\n",
       "    .dataframe tbody tr th:only-of-type {\n",
       "        vertical-align: middle;\n",
       "    }\n",
       "\n",
       "    .dataframe tbody tr th {\n",
       "        vertical-align: top;\n",
       "    }\n",
       "\n",
       "    .dataframe thead th {\n",
       "        text-align: right;\n",
       "    }\n",
       "</style>\n",
       "<table border=\"1\" class=\"dataframe\">\n",
       "  <thead>\n",
       "    <tr style=\"text-align: right;\">\n",
       "      <th></th>\n",
       "      <th>created</th>\n",
       "      <th>sentiment.compound</th>\n",
       "      <th>sentiment.neg</th>\n",
       "      <th>sentiment.neu</th>\n",
       "      <th>sentiment.pos</th>\n",
       "      <th>tweet_text</th>\n",
       "      <th>user</th>\n",
       "    </tr>\n",
       "  </thead>\n",
       "  <tbody>\n",
       "    <tr>\n",
       "      <th>0</th>\n",
       "      <td>2018-06-24 19:03:02</td>\n",
       "      <td>0.0000</td>\n",
       "      <td>0.000</td>\n",
       "      <td>1.000</td>\n",
       "      <td>0.000</td>\n",
       "      <td>Follow the inner workings of @nytimes, one of ...</td>\n",
       "      <td>BBC</td>\n",
       "    </tr>\n",
       "    <tr>\n",
       "      <th>1</th>\n",
       "      <td>2018-06-24 18:32:03</td>\n",
       "      <td>-0.5574</td>\n",
       "      <td>0.153</td>\n",
       "      <td>0.847</td>\n",
       "      <td>0.000</td>\n",
       "      <td>🚗 🇸🇦 Women in Saudi Arabia are hitting the roa...</td>\n",
       "      <td>BBC</td>\n",
       "    </tr>\n",
       "    <tr>\n",
       "      <th>2</th>\n",
       "      <td>2018-06-24 18:10:27</td>\n",
       "      <td>0.5994</td>\n",
       "      <td>0.000</td>\n",
       "      <td>0.755</td>\n",
       "      <td>0.245</td>\n",
       "      <td>RT @BBCWthrWatchers: Beautiful \"night shining\"...</td>\n",
       "      <td>BBC</td>\n",
       "    </tr>\n",
       "    <tr>\n",
       "      <th>3</th>\n",
       "      <td>2018-06-24 18:04:04</td>\n",
       "      <td>-0.5267</td>\n",
       "      <td>0.195</td>\n",
       "      <td>0.805</td>\n",
       "      <td>0.000</td>\n",
       "      <td>This. Will. Hurt.\\n\\n@IdrisElba returns as the...</td>\n",
       "      <td>BBC</td>\n",
       "    </tr>\n",
       "    <tr>\n",
       "      <th>4</th>\n",
       "      <td>2018-06-24 17:08:05</td>\n",
       "      <td>0.6705</td>\n",
       "      <td>0.078</td>\n",
       "      <td>0.658</td>\n",
       "      <td>0.263</td>\n",
       "      <td>43% of female festival goers under 40 say they...</td>\n",
       "      <td>BBC</td>\n",
       "    </tr>\n",
       "  </tbody>\n",
       "</table>\n",
       "</div>"
      ],
      "text/plain": [
       "              created  sentiment.compound  sentiment.neg  sentiment.neu  \\\n",
       "0 2018-06-24 19:03:02              0.0000          0.000          1.000   \n",
       "1 2018-06-24 18:32:03             -0.5574          0.153          0.847   \n",
       "2 2018-06-24 18:10:27              0.5994          0.000          0.755   \n",
       "3 2018-06-24 18:04:04             -0.5267          0.195          0.805   \n",
       "4 2018-06-24 17:08:05              0.6705          0.078          0.658   \n",
       "\n",
       "   sentiment.pos                                         tweet_text user  \n",
       "0          0.000  Follow the inner workings of @nytimes, one of ...  BBC  \n",
       "1          0.000  🚗 🇸🇦 Women in Saudi Arabia are hitting the roa...  BBC  \n",
       "2          0.245  RT @BBCWthrWatchers: Beautiful \"night shining\"...  BBC  \n",
       "3          0.000  This. Will. Hurt.\\n\\n@IdrisElba returns as the...  BBC  \n",
       "4          0.263  43% of female festival goers under 40 say they...  BBC  "
      ]
     },
     "execution_count": 11,
     "metadata": {},
     "output_type": "execute_result"
    }
   ],
   "source": [
    "news_organizations_df['tweets'][0].head()"
   ]
  },
  {
   "cell_type": "code",
   "execution_count": 12,
   "metadata": {},
   "outputs": [],
   "source": [
    "# Check to make sure tweepy returned all the tweets in reverse chronological order\n",
    "# To confirm that the sanity check below does actually work, experimentally intervene using the commented line below:\n",
    "#news_organizations_df['tweets'][1]['created'][1] = datetime.now()\n",
    "\n",
    "if any((tf['created'][i] - tf['created'][i-1]).total_seconds() > 0 \n",
    "    for tf in news_organizations_df['tweets']\n",
    "         for i in range(1, len(tf) - 1)):\n",
    "       print (\"Unexpected timestamp sequence\")"
   ]
  },
  {
   "cell_type": "code",
   "execution_count": 13,
   "metadata": {},
   "outputs": [],
   "source": [
    "def mean(l):\n",
    "    return sum(l) / len(l)"
   ]
  },
  {
   "cell_type": "code",
   "execution_count": 14,
   "metadata": {},
   "outputs": [],
   "source": [
    "news_organizations_df['sentiments'] = [x['sentiment.compound'] for x in news_organizations_df.tweets]\n",
    "news_organizations_df['mean_sentiment'] = [mean(x) for x in news_organizations_df['sentiments']]"
   ]
  },
  {
   "cell_type": "code",
   "execution_count": 15,
   "metadata": {},
   "outputs": [
    {
     "data": {
      "text/html": [
       "<div>\n",
       "<style scoped>\n",
       "    .dataframe tbody tr th:only-of-type {\n",
       "        vertical-align: middle;\n",
       "    }\n",
       "\n",
       "    .dataframe tbody tr th {\n",
       "        vertical-align: top;\n",
       "    }\n",
       "\n",
       "    .dataframe thead th {\n",
       "        text-align: right;\n",
       "    }\n",
       "</style>\n",
       "<table border=\"1\" class=\"dataframe\">\n",
       "  <thead>\n",
       "    <tr style=\"text-align: right;\">\n",
       "      <th></th>\n",
       "      <th>name</th>\n",
       "      <th>handle</th>\n",
       "      <th>tweets</th>\n",
       "      <th>sentiments</th>\n",
       "      <th>mean_sentiment</th>\n",
       "    </tr>\n",
       "  </thead>\n",
       "  <tbody>\n",
       "    <tr>\n",
       "      <th>0</th>\n",
       "      <td>BBC</td>\n",
       "      <td>@BBC</td>\n",
       "      <td>created  sentiment.compound  se...</td>\n",
       "      <td>0     0.0000\n",
       "1    -0.5574\n",
       "2     0.5994\n",
       "3    -0...</td>\n",
       "      <td>0.170314</td>\n",
       "    </tr>\n",
       "    <tr>\n",
       "      <th>1</th>\n",
       "      <td>CBS</td>\n",
       "      <td>@CBS</td>\n",
       "      <td>created  sentiment.compound  se...</td>\n",
       "      <td>0     0.1867\n",
       "1     0.4199\n",
       "2     0.4926\n",
       "3     0...</td>\n",
       "      <td>0.347950</td>\n",
       "    </tr>\n",
       "    <tr>\n",
       "      <th>2</th>\n",
       "      <td>CNN</td>\n",
       "      <td>@CNN</td>\n",
       "      <td>created  sentiment.compound  se...</td>\n",
       "      <td>0    -0.6705\n",
       "1     0.0000\n",
       "2    -0.1531\n",
       "3     0...</td>\n",
       "      <td>-0.036640</td>\n",
       "    </tr>\n",
       "    <tr>\n",
       "      <th>3</th>\n",
       "      <td>Fox</td>\n",
       "      <td>@FoxNews</td>\n",
       "      <td>created  sentiment.compound  se...</td>\n",
       "      <td>0     0.0000\n",
       "1     0.1280\n",
       "2     0.1531\n",
       "3    -0...</td>\n",
       "      <td>-0.022524</td>\n",
       "    </tr>\n",
       "    <tr>\n",
       "      <th>4</th>\n",
       "      <td>New York Times</td>\n",
       "      <td>@nytimes</td>\n",
       "      <td>created  sentiment.compound  se...</td>\n",
       "      <td>0     0.6369\n",
       "1     0.0000\n",
       "2    -0.5574\n",
       "3    -0...</td>\n",
       "      <td>0.046975</td>\n",
       "    </tr>\n",
       "  </tbody>\n",
       "</table>\n",
       "</div>"
      ],
      "text/plain": [
       "             name    handle  \\\n",
       "0             BBC      @BBC   \n",
       "1             CBS      @CBS   \n",
       "2             CNN      @CNN   \n",
       "3             Fox  @FoxNews   \n",
       "4  New York Times  @nytimes   \n",
       "\n",
       "                                              tweets  \\\n",
       "0                 created  sentiment.compound  se...   \n",
       "1                 created  sentiment.compound  se...   \n",
       "2                 created  sentiment.compound  se...   \n",
       "3                 created  sentiment.compound  se...   \n",
       "4                 created  sentiment.compound  se...   \n",
       "\n",
       "                                          sentiments  mean_sentiment  \n",
       "0  0     0.0000\n",
       "1    -0.5574\n",
       "2     0.5994\n",
       "3    -0...        0.170314  \n",
       "1  0     0.1867\n",
       "1     0.4199\n",
       "2     0.4926\n",
       "3     0...        0.347950  \n",
       "2  0    -0.6705\n",
       "1     0.0000\n",
       "2    -0.1531\n",
       "3     0...       -0.036640  \n",
       "3  0     0.0000\n",
       "1     0.1280\n",
       "2     0.1531\n",
       "3    -0...       -0.022524  \n",
       "4  0     0.6369\n",
       "1     0.0000\n",
       "2    -0.5574\n",
       "3    -0...        0.046975  "
      ]
     },
     "execution_count": 15,
     "metadata": {},
     "output_type": "execute_result"
    }
   ],
   "source": [
    "news_organizations_df.head()"
   ]
  },
  {
   "cell_type": "code",
   "execution_count": 16,
   "metadata": {},
   "outputs": [],
   "source": [
    "def plot_sentiments(name, sentiments, nbr_tweets):\n",
    "    now = datetime.now()\n",
    "    #It's a bit tricky to reverse the x axis\n",
    "    plt.stem(list(range(1-nbr_tweets,1)), list(reversed(sentiments[0:nbr_tweets])))\n",
    "    plt.title(f\"Sentiment Analysis of {name} Tweets ({now.month}/{now.day}/{now.year})\")\n",
    "    plt.xlabel('Tweets Ago')\n",
    "    plt.ylabel('Tweet Polarity')\n",
    "    plt.savefig(str(name))\n",
    "    plt.show()"
   ]
  },
  {
   "cell_type": "code",
   "execution_count": 17,
   "metadata": {},
   "outputs": [
    {
     "data": {
      "image/png": "[encoded data removed]",
      "text/plain": [
       "<matplotlib.figure.Figure at 0x197bf977940>"
      ]
     },
     "metadata": {},
     "output_type": "display_data"
    },
    {
     "data": {
      "image/png": "[encoded data removed]",
      "text/plain": [
       "<matplotlib.figure.Figure at 0x197bf977198>"
      ]
     },
     "metadata": {},
     "output_type": "display_data"
    },
    {
     "data": {
      "image/png": "[encoded data removed]",
      "text/plain": [
       "<matplotlib.figure.Figure at 0x197c0027080>"
      ]
     },
     "metadata": {},
     "output_type": "display_data"
    },
    {
     "data": {
      "image/png": "[encoded data removed]",
      "text/plain": [
       "<matplotlib.figure.Figure at 0x197c01acf98>"
      ]
     },
     "metadata": {},
     "output_type": "display_data"
    },
    {
     "data": {
      "image/png": "[encoded data removed]",
      "text/plain": [
       "<matplotlib.figure.Figure at 0x197bfeda160>"
      ]
     },
     "metadata": {},
     "output_type": "display_data"
    }
   ],
   "source": [
    "for index, row in news_organizations_df.iterrows():\n",
    "    plot_sentiments(row['name'], row['sentiments'], nbr_tweets)\n"
   ]
  },
  {
   "cell_type": "code",
   "execution_count": 34,
   "metadata": {},
   "outputs": [
    {
     "data": {
      "image/png": "[encoded data removed]",
      "text/plain": [
       "<matplotlib.figure.Figure at 0x197c04f4470>"
      ]
     },
     "metadata": {},
     "output_type": "display_data"
    }
   ],
   "source": [
    "now = datetime.now()\n",
    "plt.bar(news_organizations_df['name'], news_organizations_df['mean_sentiment']) \n",
    "plt.title(f\"Average sentiment of {nbr_tweets} Tweets ({now.month}/{now.day}/{now.year})\")\n",
    "plt.xlabel('News Organization')\n",
    "plt.ylabel('Average Tweet Polarity')\n",
    "plt.savefig('Average_sentiments')\n",
    "plt.show()"
   ]
  },
  {
   "cell_type": "code",
   "execution_count": 19,
   "metadata": {},
   "outputs": [],
   "source": [
    "# Convert each 'tweets' DataFrame to a list of dicts\n",
    "news_organizations_df['tweets'] = news_organizations_df['tweets'].map(df_to_list)"
   ]
  },
  {
   "cell_type": "code",
   "execution_count": 20,
   "metadata": {},
   "outputs": [
    {
     "data": {
      "text/html": [
       "<div>\n",
       "<style scoped>\n",
       "    .dataframe tbody tr th:only-of-type {\n",
       "        vertical-align: middle;\n",
       "    }\n",
       "\n",
       "    .dataframe tbody tr th {\n",
       "        vertical-align: top;\n",
       "    }\n",
       "\n",
       "    .dataframe thead th {\n",
       "        text-align: right;\n",
       "    }\n",
       "</style>\n",
       "<table border=\"1\" class=\"dataframe\">\n",
       "  <thead>\n",
       "    <tr style=\"text-align: right;\">\n",
       "      <th></th>\n",
       "      <th>name</th>\n",
       "      <th>handle</th>\n",
       "      <th>tweets</th>\n",
       "      <th>sentiments</th>\n",
       "      <th>mean_sentiment</th>\n",
       "    </tr>\n",
       "  </thead>\n",
       "  <tbody>\n",
       "    <tr>\n",
       "      <th>0</th>\n",
       "      <td>BBC</td>\n",
       "      <td>@BBC</td>\n",
       "      <td>[{'created': 2018-06-24 19:03:02, 'sentiment.c...</td>\n",
       "      <td>0     0.0000\n",
       "1    -0.5574\n",
       "2     0.5994\n",
       "3    -0...</td>\n",
       "      <td>0.170314</td>\n",
       "    </tr>\n",
       "    <tr>\n",
       "      <th>1</th>\n",
       "      <td>CBS</td>\n",
       "      <td>@CBS</td>\n",
       "      <td>[{'created': 2018-06-22 21:19:06, 'sentiment.c...</td>\n",
       "      <td>0     0.1867\n",
       "1     0.4199\n",
       "2     0.4926\n",
       "3     0...</td>\n",
       "      <td>0.347950</td>\n",
       "    </tr>\n",
       "    <tr>\n",
       "      <th>2</th>\n",
       "      <td>CNN</td>\n",
       "      <td>@CNN</td>\n",
       "      <td>[{'created': 2018-06-24 23:15:53, 'sentiment.c...</td>\n",
       "      <td>0    -0.6705\n",
       "1     0.0000\n",
       "2    -0.1531\n",
       "3     0...</td>\n",
       "      <td>-0.036640</td>\n",
       "    </tr>\n",
       "    <tr>\n",
       "      <th>3</th>\n",
       "      <td>Fox</td>\n",
       "      <td>@FoxNews</td>\n",
       "      <td>[{'created': 2018-06-24 23:15:43, 'sentiment.c...</td>\n",
       "      <td>0     0.0000\n",
       "1     0.1280\n",
       "2     0.1531\n",
       "3    -0...</td>\n",
       "      <td>-0.022524</td>\n",
       "    </tr>\n",
       "    <tr>\n",
       "      <th>4</th>\n",
       "      <td>New York Times</td>\n",
       "      <td>@nytimes</td>\n",
       "      <td>[{'created': 2018-06-24 23:06:36, 'sentiment.c...</td>\n",
       "      <td>0     0.6369\n",
       "1     0.0000\n",
       "2    -0.5574\n",
       "3    -0...</td>\n",
       "      <td>0.046975</td>\n",
       "    </tr>\n",
       "  </tbody>\n",
       "</table>\n",
       "</div>"
      ],
      "text/plain": [
       "             name    handle  \\\n",
       "0             BBC      @BBC   \n",
       "1             CBS      @CBS   \n",
       "2             CNN      @CNN   \n",
       "3             Fox  @FoxNews   \n",
       "4  New York Times  @nytimes   \n",
       "\n",
       "                                              tweets  \\\n",
       "0  [{'created': 2018-06-24 19:03:02, 'sentiment.c...   \n",
       "1  [{'created': 2018-06-22 21:19:06, 'sentiment.c...   \n",
       "2  [{'created': 2018-06-24 23:15:53, 'sentiment.c...   \n",
       "3  [{'created': 2018-06-24 23:15:43, 'sentiment.c...   \n",
       "4  [{'created': 2018-06-24 23:06:36, 'sentiment.c...   \n",
       "\n",
       "                                          sentiments  mean_sentiment  \n",
       "0  0     0.0000\n",
       "1    -0.5574\n",
       "2     0.5994\n",
       "3    -0...        0.170314  \n",
       "1  0     0.1867\n",
       "1     0.4199\n",
       "2     0.4926\n",
       "3     0...        0.347950  \n",
       "2  0    -0.6705\n",
       "1     0.0000\n",
       "2    -0.1531\n",
       "3     0...       -0.036640  \n",
       "3  0     0.0000\n",
       "1     0.1280\n",
       "2     0.1531\n",
       "3    -0...       -0.022524  \n",
       "4  0     0.6369\n",
       "1     0.0000\n",
       "2    -0.5574\n",
       "3    -0...        0.046975  "
      ]
     },
     "execution_count": 20,
     "metadata": {},
     "output_type": "execute_result"
    }
   ],
   "source": [
    "news_organizations_df"
   ]
  },
  {
   "cell_type": "code",
   "execution_count": 21,
   "metadata": {},
   "outputs": [],
   "source": [
    "tweets_df = json_normalize(df_to_list(news_organizations_df), 'tweets')"
   ]
  },
  {
   "cell_type": "code",
   "execution_count": 22,
   "metadata": {},
   "outputs": [
    {
     "data": {
      "text/html": [
       "<div>\n",
       "<style scoped>\n",
       "    .dataframe tbody tr th:only-of-type {\n",
       "        vertical-align: middle;\n",
       "    }\n",
       "\n",
       "    .dataframe tbody tr th {\n",
       "        vertical-align: top;\n",
       "    }\n",
       "\n",
       "    .dataframe thead th {\n",
       "        text-align: right;\n",
       "    }\n",
       "</style>\n",
       "<table border=\"1\" class=\"dataframe\">\n",
       "  <thead>\n",
       "    <tr style=\"text-align: right;\">\n",
       "      <th></th>\n",
       "      <th>created</th>\n",
       "      <th>sentiment.compound</th>\n",
       "      <th>sentiment.neg</th>\n",
       "      <th>sentiment.neu</th>\n",
       "      <th>sentiment.pos</th>\n",
       "      <th>tweet_text</th>\n",
       "      <th>user</th>\n",
       "    </tr>\n",
       "  </thead>\n",
       "  <tbody>\n",
       "    <tr>\n",
       "      <th>0</th>\n",
       "      <td>2018-06-24 19:03:02</td>\n",
       "      <td>0.0000</td>\n",
       "      <td>0.000</td>\n",
       "      <td>1.000</td>\n",
       "      <td>0.000</td>\n",
       "      <td>Follow the inner workings of @nytimes, one of ...</td>\n",
       "      <td>BBC</td>\n",
       "    </tr>\n",
       "    <tr>\n",
       "      <th>1</th>\n",
       "      <td>2018-06-24 18:32:03</td>\n",
       "      <td>-0.5574</td>\n",
       "      <td>0.153</td>\n",
       "      <td>0.847</td>\n",
       "      <td>0.000</td>\n",
       "      <td>🚗 🇸🇦 Women in Saudi Arabia are hitting the roa...</td>\n",
       "      <td>BBC</td>\n",
       "    </tr>\n",
       "    <tr>\n",
       "      <th>2</th>\n",
       "      <td>2018-06-24 18:10:27</td>\n",
       "      <td>0.5994</td>\n",
       "      <td>0.000</td>\n",
       "      <td>0.755</td>\n",
       "      <td>0.245</td>\n",
       "      <td>RT @BBCWthrWatchers: Beautiful \"night shining\"...</td>\n",
       "      <td>BBC</td>\n",
       "    </tr>\n",
       "    <tr>\n",
       "      <th>3</th>\n",
       "      <td>2018-06-24 18:04:04</td>\n",
       "      <td>-0.5267</td>\n",
       "      <td>0.195</td>\n",
       "      <td>0.805</td>\n",
       "      <td>0.000</td>\n",
       "      <td>This. Will. Hurt.\\n\\n@IdrisElba returns as the...</td>\n",
       "      <td>BBC</td>\n",
       "    </tr>\n",
       "    <tr>\n",
       "      <th>4</th>\n",
       "      <td>2018-06-24 17:08:05</td>\n",
       "      <td>0.6705</td>\n",
       "      <td>0.078</td>\n",
       "      <td>0.658</td>\n",
       "      <td>0.263</td>\n",
       "      <td>43% of female festival goers under 40 say they...</td>\n",
       "      <td>BBC</td>\n",
       "    </tr>\n",
       "  </tbody>\n",
       "</table>\n",
       "</div>"
      ],
      "text/plain": [
       "              created  sentiment.compound  sentiment.neg  sentiment.neu  \\\n",
       "0 2018-06-24 19:03:02              0.0000          0.000          1.000   \n",
       "1 2018-06-24 18:32:03             -0.5574          0.153          0.847   \n",
       "2 2018-06-24 18:10:27              0.5994          0.000          0.755   \n",
       "3 2018-06-24 18:04:04             -0.5267          0.195          0.805   \n",
       "4 2018-06-24 17:08:05              0.6705          0.078          0.658   \n",
       "\n",
       "   sentiment.pos                                         tweet_text user  \n",
       "0          0.000  Follow the inner workings of @nytimes, one of ...  BBC  \n",
       "1          0.000  🚗 🇸🇦 Women in Saudi Arabia are hitting the roa...  BBC  \n",
       "2          0.245  RT @BBCWthrWatchers: Beautiful \"night shining\"...  BBC  \n",
       "3          0.000  This. Will. Hurt.\\n\\n@IdrisElba returns as the...  BBC  \n",
       "4          0.263  43% of female festival goers under 40 say they...  BBC  "
      ]
     },
     "execution_count": 22,
     "metadata": {},
     "output_type": "execute_result"
    }
   ],
   "source": [
    "tweets_df.head()"
   ]
  },
  {
   "cell_type": "code",
   "execution_count": 23,
   "metadata": {},
   "outputs": [],
   "source": [
    "tweets_df.to_csv('Twitter_Sentiments.csv', index = False)"
   ]
  }
 ],
 "metadata": {
  "kernelspec": {
   "display_name": "Python 3",
   "language": "python",
   "name": "python3"
  },
  "language_info": {
   "codemirror_mode": {
    "name": "ipython",
    "version": 3
   },
   "file_extension": ".py",
   "mimetype": "text/x-python",
   "name": "python",
   "nbconvert_exporter": "python",
   "pygments_lexer": "ipython3",
   "version": "3.6.4"
  }
 },
 "nbformat": 4,
 "nbformat_minor": 2
}
