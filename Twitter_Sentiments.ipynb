{
 "cells": [
  {
   "cell_type": "code",
   "execution_count": 1,
   "metadata": {},
   "outputs": [],
   "source": [
    "import tweepy\n",
    "import pandas as pd\n",
    "from pandas.io.json import json_normalize #package for flattening json in pandas df\n",
    "from config import consumer_key, consumer_secret, access_token, access_token_secret\n",
    "import matplotlib.pyplot as plt\n",
    "from datetime import datetime\n",
    "import time\n",
    "from vaderSentiment.vaderSentiment import SentimentIntensityAnalyzer \n",
    "analyzer = SentimentIntensityAnalyzer() # Initialize the class "
   ]
  },
  {
   "cell_type": "code",
   "execution_count": 2,
   "metadata": {},
   "outputs": [],
   "source": [
    "# Twitter credentials\n",
    "auth = tweepy.OAuthHandler(consumer_key, consumer_secret)\n",
    "auth.set_access_token(access_token, access_token_secret)\n",
    "api = tweepy.API(auth)"
   ]
  },
  {
   "cell_type": "code",
   "execution_count": 3,
   "metadata": {},
   "outputs": [],
   "source": [
    "news_organization_list = [('BBC', '@BBC'), ('CBS', '@CBS'), ('CNN', '@CNN'), ('Fox', '@FoxNews'), ('New York Times', '@nytimes')]"
   ]
  },
  {
   "cell_type": "code",
   "execution_count": 4,
   "metadata": {},
   "outputs": [],
   "source": [
    "news_organizations_df = pd.DataFrame(news_organization_list, columns = ['name', 'handle'])"
   ]
  },
  {
   "cell_type": "code",
   "execution_count": 5,
   "metadata": {},
   "outputs": [
    {
     "data": {
      "text/html": [
       "<div>\n",
       "<style scoped>\n",
       "    .dataframe tbody tr th:only-of-type {\n",
       "        vertical-align: middle;\n",
       "    }\n",
       "\n",
       "    .dataframe tbody tr th {\n",
       "        vertical-align: top;\n",
       "    }\n",
       "\n",
       "    .dataframe thead th {\n",
       "        text-align: right;\n",
       "    }\n",
       "</style>\n",
       "<table border=\"1\" class=\"dataframe\">\n",
       "  <thead>\n",
       "    <tr style=\"text-align: right;\">\n",
       "      <th></th>\n",
       "      <th>name</th>\n",
       "      <th>handle</th>\n",
       "    </tr>\n",
       "  </thead>\n",
       "  <tbody>\n",
       "    <tr>\n",
       "      <th>0</th>\n",
       "      <td>BBC</td>\n",
       "      <td>@BBC</td>\n",
       "    </tr>\n",
       "    <tr>\n",
       "      <th>1</th>\n",
       "      <td>CBS</td>\n",
       "      <td>@CBS</td>\n",
       "    </tr>\n",
       "    <tr>\n",
       "      <th>2</th>\n",
       "      <td>CNN</td>\n",
       "      <td>@CNN</td>\n",
       "    </tr>\n",
       "    <tr>\n",
       "      <th>3</th>\n",
       "      <td>Fox</td>\n",
       "      <td>@FoxNews</td>\n",
       "    </tr>\n",
       "    <tr>\n",
       "      <th>4</th>\n",
       "      <td>New York Times</td>\n",
       "      <td>@nytimes</td>\n",
       "    </tr>\n",
       "  </tbody>\n",
       "</table>\n",
       "</div>"
      ],
      "text/plain": [
       "             name    handle\n",
       "0             BBC      @BBC\n",
       "1             CBS      @CBS\n",
       "2             CNN      @CNN\n",
       "3             Fox  @FoxNews\n",
       "4  New York Times  @nytimes"
      ]
     },
     "execution_count": 5,
     "metadata": {},
     "output_type": "execute_result"
    }
   ],
   "source": [
    "news_organizations_df"
   ]
  },
  {
   "cell_type": "code",
   "execution_count": 6,
   "metadata": {},
   "outputs": [],
   "source": [
    "nbr_tweets = 100"
   ]
  },
  {
   "cell_type": "code",
   "execution_count": 7,
   "metadata": {},
   "outputs": [],
   "source": [
    "def get_df_for_user_tweets(username):\n",
    "    try:\n",
    "        target_tweets = []\n",
    "        for status in tweepy.Cursor(api.user_timeline, id=username).items(nbr_tweets):\n",
    "            target_tweets.append(status)\n",
    "        temp_df = pd.DataFrame([ (x.user._json['screen_name'], x.text, x.created_at, analyzer.polarity_scores(x.text))\n",
    "                                for x in target_tweets])\n",
    "        temp_df.columns = ['user', 'tweet_text', 'created', 'sentiment']\n",
    "        return temp_df\n",
    "    except Exception as e:\n",
    "        print(str(e), \"Please debug this!\")"
   ]
  },
  {
   "cell_type": "code",
   "execution_count": 8,
   "metadata": {},
   "outputs": [],
   "source": [
    "# Create a 'tweets' DataFrame for each row of the 'news organizations' DataFrame\n",
    "news_organizations_df['tweets'] = news_organizations_df.handle.map(get_df_for_user_tweets)\n",
    "# Would it be ok if the funtion get_df_for_user_tweets required a second argument, which was defined here?"
   ]
  },
  {
   "cell_type": "code",
   "execution_count": 9,
   "metadata": {},
   "outputs": [],
   "source": [
    "def df_to_list(df):\n",
    "    return list(df.T.to_dict().values())\n",
    "\n",
    "def normalize_df(df):\n",
    "    return json_normalize(df_to_list(df))"
   ]
  },
  {
   "cell_type": "code",
   "execution_count": 10,
   "metadata": {},
   "outputs": [],
   "source": [
    "# Flatten out the 'sentiment' dictionary column of the 'tweets' DataFrames\n",
    "news_organizations_df['tweets'] = news_organizations_df['tweets'].map(normalize_df)"
   ]
  },
  {
   "cell_type": "code",
   "execution_count": 11,
   "metadata": {},
   "outputs": [
    {
     "data": {
      "text/html": [
       "<div>\n",
       "<style scoped>\n",
       "    .dataframe tbody tr th:only-of-type {\n",
       "        vertical-align: middle;\n",
       "    }\n",
       "\n",
       "    .dataframe tbody tr th {\n",
       "        vertical-align: top;\n",
       "    }\n",
       "\n",
       "    .dataframe thead th {\n",
       "        text-align: right;\n",
       "    }\n",
       "</style>\n",
       "<table border=\"1\" class=\"dataframe\">\n",
       "  <thead>\n",
       "    <tr style=\"text-align: right;\">\n",
       "      <th></th>\n",
       "      <th>created</th>\n",
       "      <th>sentiment.compound</th>\n",
       "      <th>sentiment.neg</th>\n",
       "      <th>sentiment.neu</th>\n",
       "      <th>sentiment.pos</th>\n",
       "      <th>tweet_text</th>\n",
       "      <th>user</th>\n",
       "    </tr>\n",
       "  </thead>\n",
       "  <tbody>\n",
       "    <tr>\n",
       "      <th>0</th>\n",
       "      <td>2018-06-24 19:03:02</td>\n",
       "      <td>0.0000</td>\n",
       "      <td>0.000</td>\n",
       "      <td>1.000</td>\n",
       "      <td>0.000</td>\n",
       "      <td>Follow the inner workings of @nytimes, one of ...</td>\n",
       "      <td>BBC</td>\n",
       "    </tr>\n",
       "    <tr>\n",
       "      <th>1</th>\n",
       "      <td>2018-06-24 18:32:03</td>\n",
       "      <td>-0.5574</td>\n",
       "      <td>0.153</td>\n",
       "      <td>0.847</td>\n",
       "      <td>0.000</td>\n",
       "      <td>🚗 🇸🇦 Women in Saudi Arabia are hitting the roa...</td>\n",
       "      <td>BBC</td>\n",
       "    </tr>\n",
       "    <tr>\n",
       "      <th>2</th>\n",
       "      <td>2018-06-24 18:10:27</td>\n",
       "      <td>0.5994</td>\n",
       "      <td>0.000</td>\n",
       "      <td>0.755</td>\n",
       "      <td>0.245</td>\n",
       "      <td>RT @BBCWthrWatchers: Beautiful \"night shining\"...</td>\n",
       "      <td>BBC</td>\n",
       "    </tr>\n",
       "    <tr>\n",
       "      <th>3</th>\n",
       "      <td>2018-06-24 18:04:04</td>\n",
       "      <td>-0.5267</td>\n",
       "      <td>0.195</td>\n",
       "      <td>0.805</td>\n",
       "      <td>0.000</td>\n",
       "      <td>This. Will. Hurt.\\n\\n@IdrisElba returns as the...</td>\n",
       "      <td>BBC</td>\n",
       "    </tr>\n",
       "    <tr>\n",
       "      <th>4</th>\n",
       "      <td>2018-06-24 17:08:05</td>\n",
       "      <td>0.6705</td>\n",
       "      <td>0.078</td>\n",
       "      <td>0.658</td>\n",
       "      <td>0.263</td>\n",
       "      <td>43% of female festival goers under 40 say they...</td>\n",
       "      <td>BBC</td>\n",
       "    </tr>\n",
       "  </tbody>\n",
       "</table>\n",
       "</div>"
      ],
      "text/plain": [
       "              created  sentiment.compound  sentiment.neg  sentiment.neu  \\\n",
       "0 2018-06-24 19:03:02              0.0000          0.000          1.000   \n",
       "1 2018-06-24 18:32:03             -0.5574          0.153          0.847   \n",
       "2 2018-06-24 18:10:27              0.5994          0.000          0.755   \n",
       "3 2018-06-24 18:04:04             -0.5267          0.195          0.805   \n",
       "4 2018-06-24 17:08:05              0.6705          0.078          0.658   \n",
       "\n",
       "   sentiment.pos                                         tweet_text user  \n",
       "0          0.000  Follow the inner workings of @nytimes, one of ...  BBC  \n",
       "1          0.000  🚗 🇸🇦 Women in Saudi Arabia are hitting the roa...  BBC  \n",
       "2          0.245  RT @BBCWthrWatchers: Beautiful \"night shining\"...  BBC  \n",
       "3          0.000  This. Will. Hurt.\\n\\n@IdrisElba returns as the...  BBC  \n",
       "4          0.263  43% of female festival goers under 40 say they...  BBC  "
      ]
     },
     "execution_count": 11,
     "metadata": {},
     "output_type": "execute_result"
    }
   ],
   "source": [
    "news_organizations_df['tweets'][0].head()"
   ]
  },
  {
   "cell_type": "code",
   "execution_count": 12,
   "metadata": {},
   "outputs": [],
   "source": [
    "# Check to make sure tweepy returned all the tweets in reverse chronological order\n",
    "# To confirm that the sanity check below does actually work, experimentally intervene using the commented line below:\n",
    "#news_organizations_df['tweets'][1]['created'][1] = datetime.now()\n",
    "\n",
    "if any((tf['created'][i] - tf['created'][i-1]).total_seconds() > 0 \n",
    "    for tf in news_organizations_df['tweets']\n",
    "         for i in range(1, len(tf) - 1)):\n",
    "       print (\"Unexpected timestamp sequence\")"
   ]
  },
  {
   "cell_type": "code",
   "execution_count": 13,
   "metadata": {},
   "outputs": [],
   "source": [
    "def mean(l):\n",
    "    return sum(l) / len(l)"
   ]
  },
  {
   "cell_type": "code",
   "execution_count": 14,
   "metadata": {},
   "outputs": [],
   "source": [
    "news_organizations_df['sentiments'] = [x['sentiment.compound'] for x in news_organizations_df.tweets]\n",
    "news_organizations_df['mean_sentiment'] = [mean(x) for x in news_organizations_df['sentiments']]"
   ]
  },
  {
   "cell_type": "code",
   "execution_count": 15,
   "metadata": {},
   "outputs": [
    {
     "data": {
      "text/html": [
       "<div>\n",
       "<style scoped>\n",
       "    .dataframe tbody tr th:only-of-type {\n",
       "        vertical-align: middle;\n",
       "    }\n",
       "\n",
       "    .dataframe tbody tr th {\n",
       "        vertical-align: top;\n",
       "    }\n",
       "\n",
       "    .dataframe thead th {\n",
       "        text-align: right;\n",
       "    }\n",
       "</style>\n",
       "<table border=\"1\" class=\"dataframe\">\n",
       "  <thead>\n",
       "    <tr style=\"text-align: right;\">\n",
       "      <th></th>\n",
       "      <th>name</th>\n",
       "      <th>handle</th>\n",
       "      <th>tweets</th>\n",
       "      <th>sentiments</th>\n",
       "      <th>mean_sentiment</th>\n",
       "    </tr>\n",
       "  </thead>\n",
       "  <tbody>\n",
       "    <tr>\n",
       "      <th>0</th>\n",
       "      <td>BBC</td>\n",
       "      <td>@BBC</td>\n",
       "      <td>created  sentiment.compound  se...</td>\n",
       "      <td>0     0.0000\n",
       "1    -0.5574\n",
       "2     0.5994\n",
       "3    -0...</td>\n",
       "      <td>0.170314</td>\n",
       "    </tr>\n",
       "    <tr>\n",
       "      <th>1</th>\n",
       "      <td>CBS</td>\n",
       "      <td>@CBS</td>\n",
       "      <td>created  sentiment.compound  se...</td>\n",
       "      <td>0     0.1867\n",
       "1     0.4199\n",
       "2     0.4926\n",
       "3     0...</td>\n",
       "      <td>0.347950</td>\n",
       "    </tr>\n",
       "    <tr>\n",
       "      <th>2</th>\n",
       "      <td>CNN</td>\n",
       "      <td>@CNN</td>\n",
       "      <td>created  sentiment.compound  se...</td>\n",
       "      <td>0    -0.6705\n",
       "1     0.0000\n",
       "2    -0.1531\n",
       "3     0...</td>\n",
       "      <td>-0.036640</td>\n",
       "    </tr>\n",
       "    <tr>\n",
       "      <th>3</th>\n",
       "      <td>Fox</td>\n",
       "      <td>@FoxNews</td>\n",
       "      <td>created  sentiment.compound  se...</td>\n",
       "      <td>0     0.0000\n",
       "1     0.1280\n",
       "2     0.1531\n",
       "3    -0...</td>\n",
       "      <td>-0.022524</td>\n",
       "    </tr>\n",
       "    <tr>\n",
       "      <th>4</th>\n",
       "      <td>New York Times</td>\n",
       "      <td>@nytimes</td>\n",
       "      <td>created  sentiment.compound  se...</td>\n",
       "      <td>0     0.6369\n",
       "1     0.0000\n",
       "2    -0.5574\n",
       "3    -0...</td>\n",
       "      <td>0.046975</td>\n",
       "    </tr>\n",
       "  </tbody>\n",
       "</table>\n",
       "</div>"
      ],
      "text/plain": [
       "             name    handle  \\\n",
       "0             BBC      @BBC   \n",
       "1             CBS      @CBS   \n",
       "2             CNN      @CNN   \n",
       "3             Fox  @FoxNews   \n",
       "4  New York Times  @nytimes   \n",
       "\n",
       "                                              tweets  \\\n",
       "0                 created  sentiment.compound  se...   \n",
       "1                 created  sentiment.compound  se...   \n",
       "2                 created  sentiment.compound  se...   \n",
       "3                 created  sentiment.compound  se...   \n",
       "4                 created  sentiment.compound  se...   \n",
       "\n",
       "                                          sentiments  mean_sentiment  \n",
       "0  0     0.0000\n",
       "1    -0.5574\n",
       "2     0.5994\n",
       "3    -0...        0.170314  \n",
       "1  0     0.1867\n",
       "1     0.4199\n",
       "2     0.4926\n",
       "3     0...        0.347950  \n",
       "2  0    -0.6705\n",
       "1     0.0000\n",
       "2    -0.1531\n",
       "3     0...       -0.036640  \n",
       "3  0     0.0000\n",
       "1     0.1280\n",
       "2     0.1531\n",
       "3    -0...       -0.022524  \n",
       "4  0     0.6369\n",
       "1     0.0000\n",
       "2    -0.5574\n",
       "3    -0...        0.046975  "
      ]
     },
     "execution_count": 15,
     "metadata": {},
     "output_type": "execute_result"
    }
   ],
   "source": [
    "news_organizations_df.head()"
   ]
  },
  {
   "cell_type": "code",
   "execution_count": 16,
   "metadata": {},
   "outputs": [],
   "source": [
    "def plot_sentiments(name, sentiments, nbr_tweets):\n",
    "    now = datetime.now()\n",
    "    #It's a bit tricky to reverse the x axis\n",
    "    plt.stem(list(range(1-nbr_tweets,1)), list(reversed(sentiments[0:nbr_tweets])))\n",
    "    plt.title(f\"Sentiment Analysis of {name} Tweets ({now.month}/{now.day}/{now.year})\")\n",
    "    plt.xlabel('Tweets Ago')\n",
    "    plt.ylabel('Tweet Polarity')\n",
    "    plt.savefig(str(name))\n",
    "    plt.show()"
   ]
  },
  {
   "cell_type": "code",
   "execution_count": 17,
   "metadata": {},
   "outputs": [
    {
     "data": {
      "image/png": "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\n",
      "text/plain": [
       "<matplotlib.figure.Figure at 0x197bf977940>"
      ]
     },
     "metadata": {},
     "output_type": "display_data"
    },
    {
     "data": {
      "image/png": "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\n",
      "text/plain": [
       "<matplotlib.figure.Figure at 0x197bf977198>"
      ]
     },
     "metadata": {},
     "output_type": "display_data"
    },
    {
     "data": {
      "image/png": "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\n",
      "text/plain": [
       "<matplotlib.figure.Figure at 0x197c0027080>"
      ]
     },
     "metadata": {},
     "output_type": "display_data"
    },
    {
     "data": {
      "image/png": "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\n",
      "text/plain": [
       "<matplotlib.figure.Figure at 0x197c01acf98>"
      ]
     },
     "metadata": {},
     "output_type": "display_data"
    },
    {
     "data": {
      "image/png": "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\n",
      "text/plain": [
       "<matplotlib.figure.Figure at 0x197bfeda160>"
      ]
     },
     "metadata": {},
     "output_type": "display_data"
    }
   ],
   "source": [
    "for index, row in news_organizations_df.iterrows():\n",
    "    plot_sentiments(row['name'], row['sentiments'], nbr_tweets)\n"
   ]
  },
  {
   "cell_type": "code",
   "execution_count": 34,
   "metadata": {},
   "outputs": [
    {
     "data": {
      "image/png": "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\n",
      "text/plain": [
       "<matplotlib.figure.Figure at 0x197c04f4470>"
      ]
     },
     "metadata": {},
     "output_type": "display_data"
    }
   ],
   "source": [
    "now = datetime.now()\n",
    "plt.bar(news_organizations_df['name'], news_organizations_df['mean_sentiment']) \n",
    "plt.title(f\"Average sentiment of {nbr_tweets} Tweets ({now.month}/{now.day}/{now.year})\")\n",
    "plt.xlabel('News Organization')\n",
    "plt.ylabel('Average Tweet Polarity')\n",
    "plt.savefig('Average_sentiments')\n",
    "plt.show()"
   ]
  },
  {
   "cell_type": "code",
   "execution_count": 19,
   "metadata": {},
   "outputs": [],
   "source": [
    "# Convert each 'tweets' DataFrame to a list of dicts\n",
    "news_organizations_df['tweets'] = news_organizations_df['tweets'].map(df_to_list)"
   ]
  },
  {
   "cell_type": "code",
   "execution_count": 20,
   "metadata": {},
   "outputs": [
    {
     "data": {
      "text/html": [
       "<div>\n",
       "<style scoped>\n",
       "    .dataframe tbody tr th:only-of-type {\n",
       "        vertical-align: middle;\n",
       "    }\n",
       "\n",
       "    .dataframe tbody tr th {\n",
       "        vertical-align: top;\n",
       "    }\n",
       "\n",
       "    .dataframe thead th {\n",
       "        text-align: right;\n",
       "    }\n",
       "</style>\n",
       "<table border=\"1\" class=\"dataframe\">\n",
       "  <thead>\n",
       "    <tr style=\"text-align: right;\">\n",
       "      <th></th>\n",
       "      <th>name</th>\n",
       "      <th>handle</th>\n",
       "      <th>tweets</th>\n",
       "      <th>sentiments</th>\n",
       "      <th>mean_sentiment</th>\n",
       "    </tr>\n",
       "  </thead>\n",
       "  <tbody>\n",
       "    <tr>\n",
       "      <th>0</th>\n",
       "      <td>BBC</td>\n",
       "      <td>@BBC</td>\n",
       "      <td>[{'created': 2018-06-24 19:03:02, 'sentiment.c...</td>\n",
       "      <td>0     0.0000\n",
       "1    -0.5574\n",
       "2     0.5994\n",
       "3    -0...</td>\n",
       "      <td>0.170314</td>\n",
       "    </tr>\n",
       "    <tr>\n",
       "      <th>1</th>\n",
       "      <td>CBS</td>\n",
       "      <td>@CBS</td>\n",
       "      <td>[{'created': 2018-06-22 21:19:06, 'sentiment.c...</td>\n",
       "      <td>0     0.1867\n",
       "1     0.4199\n",
       "2     0.4926\n",
       "3     0...</td>\n",
       "      <td>0.347950</td>\n",
       "    </tr>\n",
       "    <tr>\n",
       "      <th>2</th>\n",
       "      <td>CNN</td>\n",
       "      <td>@CNN</td>\n",
       "      <td>[{'created': 2018-06-24 23:15:53, 'sentiment.c...</td>\n",
       "      <td>0    -0.6705\n",
       "1     0.0000\n",
       "2    -0.1531\n",
       "3     0...</td>\n",
       "      <td>-0.036640</td>\n",
       "    </tr>\n",
       "    <tr>\n",
       "      <th>3</th>\n",
       "      <td>Fox</td>\n",
       "      <td>@FoxNews</td>\n",
       "      <td>[{'created': 2018-06-24 23:15:43, 'sentiment.c...</td>\n",
       "      <td>0     0.0000\n",
       "1     0.1280\n",
       "2     0.1531\n",
       "3    -0...</td>\n",
       "      <td>-0.022524</td>\n",
       "    </tr>\n",
       "    <tr>\n",
       "      <th>4</th>\n",
       "      <td>New York Times</td>\n",
       "      <td>@nytimes</td>\n",
       "      <td>[{'created': 2018-06-24 23:06:36, 'sentiment.c...</td>\n",
       "      <td>0     0.6369\n",
       "1     0.0000\n",
       "2    -0.5574\n",
       "3    -0...</td>\n",
       "      <td>0.046975</td>\n",
       "    </tr>\n",
       "  </tbody>\n",
       "</table>\n",
       "</div>"
      ],
      "text/plain": [
       "             name    handle  \\\n",
       "0             BBC      @BBC   \n",
       "1             CBS      @CBS   \n",
       "2             CNN      @CNN   \n",
       "3             Fox  @FoxNews   \n",
       "4  New York Times  @nytimes   \n",
       "\n",
       "                                              tweets  \\\n",
       "0  [{'created': 2018-06-24 19:03:02, 'sentiment.c...   \n",
       "1  [{'created': 2018-06-22 21:19:06, 'sentiment.c...   \n",
       "2  [{'created': 2018-06-24 23:15:53, 'sentiment.c...   \n",
       "3  [{'created': 2018-06-24 23:15:43, 'sentiment.c...   \n",
       "4  [{'created': 2018-06-24 23:06:36, 'sentiment.c...   \n",
       "\n",
       "                                          sentiments  mean_sentiment  \n",
       "0  0     0.0000\n",
       "1    -0.5574\n",
       "2     0.5994\n",
       "3    -0...        0.170314  \n",
       "1  0     0.1867\n",
       "1     0.4199\n",
       "2     0.4926\n",
       "3     0...        0.347950  \n",
       "2  0    -0.6705\n",
       "1     0.0000\n",
       "2    -0.1531\n",
       "3     0...       -0.036640  \n",
       "3  0     0.0000\n",
       "1     0.1280\n",
       "2     0.1531\n",
       "3    -0...       -0.022524  \n",
       "4  0     0.6369\n",
       "1     0.0000\n",
       "2    -0.5574\n",
       "3    -0...        0.046975  "
      ]
     },
     "execution_count": 20,
     "metadata": {},
     "output_type": "execute_result"
    }
   ],
   "source": [
    "news_organizations_df"
   ]
  },
  {
   "cell_type": "code",
   "execution_count": 21,
   "metadata": {},
   "outputs": [],
   "source": [
    "tweets_df = json_normalize(df_to_list(news_organizations_df), 'tweets')"
   ]
  },
  {
   "cell_type": "code",
   "execution_count": 22,
   "metadata": {},
   "outputs": [
    {
     "data": {
      "text/html": [
       "<div>\n",
       "<style scoped>\n",
       "    .dataframe tbody tr th:only-of-type {\n",
       "        vertical-align: middle;\n",
       "    }\n",
       "\n",
       "    .dataframe tbody tr th {\n",
       "        vertical-align: top;\n",
       "    }\n",
       "\n",
       "    .dataframe thead th {\n",
       "        text-align: right;\n",
       "    }\n",
       "</style>\n",
       "<table border=\"1\" class=\"dataframe\">\n",
       "  <thead>\n",
       "    <tr style=\"text-align: right;\">\n",
       "      <th></th>\n",
       "      <th>created</th>\n",
       "      <th>sentiment.compound</th>\n",
       "      <th>sentiment.neg</th>\n",
       "      <th>sentiment.neu</th>\n",
       "      <th>sentiment.pos</th>\n",
       "      <th>tweet_text</th>\n",
       "      <th>user</th>\n",
       "    </tr>\n",
       "  </thead>\n",
       "  <tbody>\n",
       "    <tr>\n",
       "      <th>0</th>\n",
       "      <td>2018-06-24 19:03:02</td>\n",
       "      <td>0.0000</td>\n",
       "      <td>0.000</td>\n",
       "      <td>1.000</td>\n",
       "      <td>0.000</td>\n",
       "      <td>Follow the inner workings of @nytimes, one of ...</td>\n",
       "      <td>BBC</td>\n",
       "    </tr>\n",
       "    <tr>\n",
       "      <th>1</th>\n",
       "      <td>2018-06-24 18:32:03</td>\n",
       "      <td>-0.5574</td>\n",
       "      <td>0.153</td>\n",
       "      <td>0.847</td>\n",
       "      <td>0.000</td>\n",
       "      <td>🚗 🇸🇦 Women in Saudi Arabia are hitting the roa...</td>\n",
       "      <td>BBC</td>\n",
       "    </tr>\n",
       "    <tr>\n",
       "      <th>2</th>\n",
       "      <td>2018-06-24 18:10:27</td>\n",
       "      <td>0.5994</td>\n",
       "      <td>0.000</td>\n",
       "      <td>0.755</td>\n",
       "      <td>0.245</td>\n",
       "      <td>RT @BBCWthrWatchers: Beautiful \"night shining\"...</td>\n",
       "      <td>BBC</td>\n",
       "    </tr>\n",
       "    <tr>\n",
       "      <th>3</th>\n",
       "      <td>2018-06-24 18:04:04</td>\n",
       "      <td>-0.5267</td>\n",
       "      <td>0.195</td>\n",
       "      <td>0.805</td>\n",
       "      <td>0.000</td>\n",
       "      <td>This. Will. Hurt.\\n\\n@IdrisElba returns as the...</td>\n",
       "      <td>BBC</td>\n",
       "    </tr>\n",
       "    <tr>\n",
       "      <th>4</th>\n",
       "      <td>2018-06-24 17:08:05</td>\n",
       "      <td>0.6705</td>\n",
       "      <td>0.078</td>\n",
       "      <td>0.658</td>\n",
       "      <td>0.263</td>\n",
       "      <td>43% of female festival goers under 40 say they...</td>\n",
       "      <td>BBC</td>\n",
       "    </tr>\n",
       "  </tbody>\n",
       "</table>\n",
       "</div>"
      ],
      "text/plain": [
       "              created  sentiment.compound  sentiment.neg  sentiment.neu  \\\n",
       "0 2018-06-24 19:03:02              0.0000          0.000          1.000   \n",
       "1 2018-06-24 18:32:03             -0.5574          0.153          0.847   \n",
       "2 2018-06-24 18:10:27              0.5994          0.000          0.755   \n",
       "3 2018-06-24 18:04:04             -0.5267          0.195          0.805   \n",
       "4 2018-06-24 17:08:05              0.6705          0.078          0.658   \n",
       "\n",
       "   sentiment.pos                                         tweet_text user  \n",
       "0          0.000  Follow the inner workings of @nytimes, one of ...  BBC  \n",
       "1          0.000  🚗 🇸🇦 Women in Saudi Arabia are hitting the roa...  BBC  \n",
       "2          0.245  RT @BBCWthrWatchers: Beautiful \"night shining\"...  BBC  \n",
       "3          0.000  This. Will. Hurt.\\n\\n@IdrisElba returns as the...  BBC  \n",
       "4          0.263  43% of female festival goers under 40 say they...  BBC  "
      ]
     },
     "execution_count": 22,
     "metadata": {},
     "output_type": "execute_result"
    }
   ],
   "source": [
    "tweets_df.head()"
   ]
  },
  {
   "cell_type": "code",
   "execution_count": 23,
   "metadata": {},
   "outputs": [],
   "source": [
    "tweets_df.to_csv('Twitter_Sentiments.csv', index = False)"
   ]
<<<<<<< HEAD
=======
  },
  {
   "cell_type": "markdown",
   "metadata": {},
   "source": [
    "## PlotBot"
   ]
  },
  {
   "cell_type": "code",
   "execution_count": 24,
   "metadata": {},
   "outputs": [],
   "source": [
    "nbr_tweets = 500"
   ]
  },
  {
   "cell_type": "code",
   "execution_count": 33,
   "metadata": {},
   "outputs": [
    {
     "name": "stdout",
     "output_type": "stream",
     "text": [
      "Found a new tweet\n"
     ]
    },
    {
     "data": {
      "image/png": "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\n",
      "text/plain": [
       "<matplotlib.figure.Figure at 0x197bc5abf28>"
      ]
     },
     "metadata": {},
     "output_type": "display_data"
    },
    {
     "data": {
      "image/png": "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\n",
      "text/plain": [
       "<matplotlib.figure.Figure at 0x197b9638c50>"
      ]
     },
     "metadata": {},
     "output_type": "display_data"
    },
    {
     "name": "stdout",
     "output_type": "stream",
     "text": [
      "Found a new tweet\n"
     ]
    },
    {
     "ename": "KeyboardInterrupt",
     "evalue": "",
     "output_type": "error",
     "traceback": [
      "\u001b[1;31m---------------------------------------------------------------------------\u001b[0m",
      "\u001b[1;31mKeyboardInterrupt\u001b[0m                         Traceback (most recent call last)",
      "\u001b[1;32m<ipython-input-33-64c4fd96c39e>\u001b[0m in \u001b[0;36m<module>\u001b[1;34m()\u001b[0m\n\u001b[0;32m     27\u001b[0m \u001b[1;33m\u001b[0m\u001b[0m\n\u001b[0;32m     28\u001b[0m     \u001b[1;32mfor\u001b[0m \u001b[0mi\u001b[0m \u001b[1;32min\u001b[0m \u001b[0mrange\u001b[0m\u001b[1;33m(\u001b[0m\u001b[1;36m60\u001b[0m\u001b[1;33m)\u001b[0m\u001b[1;33m:\u001b[0m\u001b[1;33m\u001b[0m\u001b[0m\n\u001b[1;32m---> 29\u001b[1;33m         \u001b[0mtime\u001b[0m\u001b[1;33m.\u001b[0m\u001b[0msleep\u001b[0m \u001b[1;33m(\u001b[0m\u001b[1;36m5\u001b[0m\u001b[1;33m)\u001b[0m\u001b[1;33m\u001b[0m\u001b[0m\n\u001b[0m\u001b[0;32m     30\u001b[0m \u001b[1;33m\u001b[0m\u001b[0m\n",
      "\u001b[1;31mKeyboardInterrupt\u001b[0m: "
     ]
    }
   ],
   "source": [
    "# Scan my account for mentions\n",
    "max_tweet_id = None\n",
    "target = '@Bot6Plot'\n",
    "analyzed = []\n",
    "\n",
    "while True:\n",
    "    target_tweets = []\n",
    "    \n",
    "    for status in tweepy.Cursor(api.search,\n",
    "        target, result_type=\"recent\", since_id=max_tweet_id).items(10):\n",
    "        target_tweets.append((status.text, status.id, status.user.screen_name, status.created_at))\n",
    "\n",
    "    if target_tweets:\n",
    "        temp_max_tweet_id = target_tweets[0][1]\n",
    "        if temp_max_tweet_id != max_tweet_id:\n",
    "            print('Found a new tweet')\n",
    "            for tweet in target_tweets:\n",
    "                BotPlotCommand = tweet[0].split()\n",
    "                if (BotPlotCommand[0] == target) and (BotPlotCommand[1] == 'Analyze:'):\n",
    "                    name = BotPlotCommand[2].replace('@','')\n",
    "                    if not name in analyzed:\n",
    "                        tweets_df = get_df_for_user_tweets(name)\n",
    "                        plot_sentiments(name, [x['compound'] for x in tweets_df['sentiment']], nbr_tweets)\n",
    "                        api.update_with_media(name + '.png', f\"New Tweet Analysis: @{name}  (Thx @{tweet[2]}!!)\")\n",
    "                        analyzed.append(name)\n",
    "            max_tweet_id = temp_max_tweet_id\n",
    "    \n",
    "    for i in range(60):\n",
    "        time.sleep (5)\n",
    "    "
   ]
  },
  {
   "cell_type": "code",
   "execution_count": null,
   "metadata": {},
   "outputs": [],
   "source": [
    "target_tweets"
   ]
  },
  {
   "cell_type": "code",
   "execution_count": null,
   "metadata": {},
   "outputs": [],
   "source": []
>>>>>>> 0810139180e155f7657f7ae38630a584c22fffa0
  }
 ],
 "metadata": {
  "kernelspec": {
   "display_name": "Python 3",
   "language": "python",
   "name": "python3"
  },
  "language_info": {
   "codemirror_mode": {
    "name": "ipython",
    "version": 3
   },
   "file_extension": ".py",
   "mimetype": "text/x-python",
   "name": "python",
   "nbconvert_exporter": "python",
   "pygments_lexer": "ipython3",
   "version": "3.6.4"
  }
 },
 "nbformat": 4,
 "nbformat_minor": 2
}
